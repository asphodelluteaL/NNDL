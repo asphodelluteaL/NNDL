{
 "cells": [
  {
   "cell_type": "markdown",
   "metadata": {},
   "source": [
    "## 理论证明：\n",
    "一个两层的ReLU（Rectified Linear Unit）网络在理论上可以近似模拟任何有界闭集函数。这是由于ReLU是一种非线性激活函数，可以引入网络的非线性特性，使其具备强大的表示能力。\n",
    "\n",
    "该结论是基于深度学习中的“万能逼近定理”（Universal Approximation Theorem）而得出的。万能逼近定理表明，一个具有足够数量的隐藏单元的单隐藏层前馈神经网络可以以任意精度逼近任何连续函数。而ReLU网络恰好满足这个条件。\n"
   ]
  },
  {
   "cell_type": "markdown",
   "metadata": {},
   "source": [
    "## 函数定义"
   ]
  },
  {
   "cell_type": "code",
   "execution_count": 1,
   "metadata": {},
   "outputs": [],
   "source": [
    "import numpy as np\n",
    "import matplotlib.pyplot as plt\n",
    "from sklearn.model_selection import train_test_split\n",
    "from tqdm import tqdm\n",
    "import math"
   ]
  },
  {
   "cell_type": "code",
   "execution_count": null,
   "metadata": {},
   "outputs": [],
   "source": [
    "def target_func(x):\n",
    "    \"\"\"\n",
    "    计算给定数字的平方。\n",
    "\n",
    "    参数:\n",
    "    x (int/float): 需要计算平方的数字。\n",
    "\n",
    "    返回:\n",
    "    int/float: x的平方值。\n",
    "    \"\"\"\n",
    "    return x * x"
   ]
  },
  {
   "cell_type": "markdown",
   "metadata": {},
   "source": [
    "## 数据采集"
   ]
  },
  {
   "cell_type": "code",
   "execution_count": null,
   "metadata": {},
   "outputs": [],
   "source": [
    "# 生成从0到5π的等差数列，步长为0.001，用于后续的函数计算和绘图\n",
    "x = np.arange(0, 5 * np.pi, 0.001)\n",
    "\n",
    "# 对x中的每个值应用目标函数target_func，得到对应的y值列表\n",
    "y = [target_func(i) for i in x]\n",
    "\n",
    "# 将数据集分为训练集和测试集，测试集比例为20%，使用随机种子1以确保结果的可重复性\n",
    "X_train, X_test, y_train, y_test = train_test_split(x, y, test_size=0.2, random_state=1)\n",
    "\n",
    "# 进一步将训练集分为训练集和验证集，验证集比例为训练集的12.5%，同样使用随机种子1以确保结果的可重复性\n",
    "X_train, X_val, y_train, y_val = train_test_split(X_train, y_train, test_size=0.125, random_state=1)"
   ]
  },
  {
   "cell_type": "markdown",
   "metadata": {},
   "source": [
    "## 模型描述"
   ]
  },
  {
   "cell_type": "code",
   "execution_count": null,
   "metadata": {},
   "outputs": [],
   "source": [
    "# 定义神经网络各层的维度\n",
    "input_dim = 1\n",
    "hidden_dim = 16\n",
    "output_dim = 1\n",
    "\n",
    "# 初始化权重矩阵W1，使用正态分布随机数乘以sqrt(1/input_dim)来减小初始权重值\n",
    "W1 = np.random.randn(hidden_dim, input_dim) * np.sqrt(1 / input_dim)\n",
    "# 初始化输出层权重矩阵W2，同样使用正态分布随机数乘以sqrt(1/hidden_dim)\n",
    "W2 = np.random.randn(output_dim, hidden_dim) * np.sqrt(1 / hidden_dim)\n",
    "# 初始化隐藏层偏置向量b1，所有元素为0\n",
    "b1 = np.zeros((hidden_dim, 1))\n",
    "# 初始化输出层偏置向量b2，所有元素为0\n",
    "b2 = np.zeros((output_dim, 1))"
   ]
  },
  {
   "cell_type": "code",
   "execution_count": null,
   "metadata": {},
   "outputs": [],
   "source": [
    "# Cache dictionary for storing intermediate results during forward and backward propagation\n",
    "cache = {}\n",
    "\n",
    "# Define the linear transformation function\n",
    "def Linear(W, X, b):\n",
    "    \"\"\"\n",
    "    Perform linear transformation on input X using weight W and bias b.\n",
    "    \n",
    "    Parameters:\n",
    "    W: Weight matrix\n",
    "    X: Input matrix\n",
    "    b: Bias vector\n",
    "    \n",
    "    Returns:\n",
    "    Result of linear transformation\n",
    "    \"\"\"\n",
    "    return np.matmul(W, X) + b\n",
    "\n",
    "# Define the ReLU activation function\n",
    "def relu(X):\n",
    "    \"\"\"\n",
    "    Apply ReLU activation function on input X.\n",
    "    \n",
    "    Parameters:\n",
    "    X: Input matrix\n",
    "    \n",
    "    Returns:\n",
    "    Result after applying ReLU activation function\n",
    "    \"\"\"\n",
    "    return np.where(X > 0, X, 0)\n",
    "\n",
    "# Define the forward propagation function\n",
    "def forward(x):\n",
    "    \"\"\"\n",
    "    Perform forward propagation on input x.\n",
    "    \n",
    "    Parameters:\n",
    "    x: Input vector\n",
    "    \n",
    "    Returns:\n",
    "    Output vector after forward propagation\n",
    "    \"\"\"\n",
    "    # Store the input of the first layer\n",
    "    cache['out0'] = x\n",
    "    # First layer linear transformation\n",
    "    x = Linear(W1, x, b1)\n",
    "    cache['out1'] = x\n",
    "    # Apply ReLU activation function after first layer\n",
    "    x = relu(x)\n",
    "    cache['out2'] = x\n",
    "    # Second layer linear transformation\n",
    "    output = Linear(W2, x, b2)\n",
    "    cache['out3'] = output\n",
    "    return output\n",
    "\n",
    "# Define the loss function\n",
    "def loss_fn(y_pred, target):\n",
    "    \"\"\"\n",
    "    Calculate the loss between predicted value y_pred and target value target.\n",
    "    \n",
    "    Parameters:\n",
    "    y_pred: Predicted value\n",
    "    target: Target value\n",
    "    \n",
    "    Returns:\n",
    "    Calculated loss value\n",
    "    \"\"\"\n",
    "    # Calculate the mean squared error loss\n",
    "    loss = np.sum((y_pred - target) * (y_pred - target), axis=1, keepdims=True) / len(y_pred)\n",
    "    # Calculate the gradient of the loss function\n",
    "    cache['loss'] = (y_pred - target) / len(y_pred)\n",
    "    return loss\n",
    "\n",
    "# Define the backward propagation function\n",
    "def backward(lr, batch_size):\n",
    "    \"\"\"\n",
    "    Perform backward propagation and update weights and biases.\n",
    "    \n",
    "    Parameters:\n",
    "    lr: Learning rate\n",
    "    batch_size: Batch size\n",
    "    \"\"\"\n",
    "    global W1, W2, b1, b2\n",
    "\n",
    "    # Calculate the error of the second layer\n",
    "    delta2 = 1 / batch_size * cache['loss']\n",
    "    # Calculate the gradient of the weight of the second layer\n",
    "    dW2 = 1 / batch_size * np.matmul(delta2, cache['out2'].T)\n",
    "    # Calculate the gradient of the bias of the second layer\n",
    "    db2 = 1 / batch_size * np.sum(delta2, axis=1, keepdims=True)\n",
    "\n",
    "    # Calculate the error of the first layer\n",
    "    delta1 = np.matmul(W2.T, delta2) * np.where(cache['out1'] > 0, 1, 0)\n",
    "    # Calculate the gradient of the weight of the first layer\n",
    "    dW1 = 1 / batch_size * np.matmul(delta1, cache['out0'].T)\n",
    "    # Calculate the gradient of the bias of the first layer\n",
    "    db1 = 1 / batch_size * np.sum(delta1, axis=1, keepdims=True)\n",
    "\n",
    "    # Update weights and biases of the first and second layers\n",
    "    W1 -= lr * dW1\n",
    "    W2 -= lr * dW2\n",
    "    b1 -= lr * db1\n",
    "    b2 -= lr * db2"
   ]
  },
  {
   "cell_type": "code",
   "execution_count": null,
   "metadata": {},
   "outputs": [],
   "source": [
    "def predict(ranger):\n",
    "    \"\"\"\n",
    "    Evaluation function\n",
    "    Args:\n",
    "        ranger: List, 2 elements for start number and end number\n",
    "    \"\"\"\n",
    "    # Initialize lists to store input values and corresponding predictions\n",
    "    x_plot = []\n",
    "    y_pred = []\n",
    "    \n",
    "    # Iterate through the specified range to calculate predictions\n",
    "    for i in range(ranger[0], ranger[1]):\n",
    "        # Perform the first layer linear transformation\n",
    "        x = Linear(W1, np.array([[i]]), b1)\n",
    "        # Apply ReLU activation function\n",
    "        x = relu(x)\n",
    "        # Perform the second layer linear transformation\n",
    "        output = Linear(W2, x, b2)\n",
    "        # Store the input value\n",
    "        x_plot.append(i)\n",
    "        # Store the prediction\n",
    "        y_pred.extend(output)\n",
    "\n",
    "    # Plot the ground truth curve\n",
    "    plt.plot(x_plot, [target_func(i) for i in x_plot])\n",
    "    # Plot the prediction curve\n",
    "    plt.plot(x_plot, y_pred)\n",
    "    # Add legend annotations\n",
    "    plt.legend([\"Ground truth\", \"Prediction\"])"
   ]
  },
  {
   "cell_type": "code",
   "execution_count": 7,
   "metadata": {},
   "outputs": [],
   "source": [
    "def train(X, y, epochs=5, batch_size=10, lr=0.001, verbose_ep=100):\n",
    "    \"\"\"\n",
    "    Training funcition\n",
    "    Args:\n",
    "        X: input dataset\n",
    "        y: target label\n",
    "        batch_size: batch size\n",
    "        lr: learning rate\n",
    "        verbose_ep: display loss per verbose_ep epoch\n",
    "    \"\"\"\n",
    "    for epoch in tqdm(range(epochs)):\n",
    "        rec_loss = 0\n",
    "        for batch_idx in range(len(X) // batch_size):\n",
    "            X_batched = np.array([X[batch_idx * batch_size: min((batch_idx + 1) * batch_size, len(X))]])\n",
    "            y_batched = np.array([y[batch_idx * batch_size: min((batch_idx + 1) * batch_size, len(X))]])\n",
    "            y_pred = forward(X_batched)\n",
    "            loss = np.sum(loss_fn(y_pred,np.array(y_batched))) / len(y_pred)\n",
    "            rec_loss += loss\n",
    "            backward(lr, batch_size)\n",
    "        if epoch % verbose_ep == 0:\n",
    "            print(f\"Epoch:{epoch}, Loss:{rec_loss / (len(X) // batch_size)}\")"
   ]
  },
  {
   "cell_type": "code",
   "execution_count": 8,
   "metadata": {},
   "outputs": [
    {
     "name": "stderr",
     "output_type": "stream",
     "text": [
      "  0%|          | 9/5000 [00:00<01:59, 41.65it/s]"
     ]
    },
    {
     "name": "stdout",
     "output_type": "stream",
     "text": [
      "Epoch:0, Loss:23417.53495944138\n"
     ]
    },
    {
     "name": "stderr",
     "output_type": "stream",
     "text": [
      " 20%|██        | 1006/5000 [00:25<01:34, 42.37it/s]"
     ]
    },
    {
     "name": "stdout",
     "output_type": "stream",
     "text": [
      "Epoch:1000, Loss:16.46651174905025\n"
     ]
    },
    {
     "name": "stderr",
     "output_type": "stream",
     "text": [
      " 40%|████      | 2007/5000 [00:52<01:10, 42.20it/s]"
     ]
    },
    {
     "name": "stdout",
     "output_type": "stream",
     "text": [
      "Epoch:2000, Loss:11.709865395203417\n"
     ]
    },
    {
     "name": "stderr",
     "output_type": "stream",
     "text": [
      " 60%|██████    | 3004/5000 [01:17<01:01, 32.53it/s]"
     ]
    },
    {
     "name": "stdout",
     "output_type": "stream",
     "text": [
      "Epoch:3000, Loss:8.82240153433885\n"
     ]
    },
    {
     "name": "stderr",
     "output_type": "stream",
     "text": [
      " 80%|████████  | 4003/5000 [01:43<00:26, 37.71it/s]"
     ]
    },
    {
     "name": "stdout",
     "output_type": "stream",
     "text": [
      "Epoch:4000, Loss:8.291376350087708\n"
     ]
    },
    {
     "name": "stderr",
     "output_type": "stream",
     "text": [
      "100%|██████████| 5000/5000 [02:08<00:00, 38.91it/s]\n"
     ]
    }
   ],
   "source": [
    "train(X_train, y_train, epochs=5000, batch_size=32, lr=0.01, verbose_ep=1000)"
   ]
  },
  {
   "cell_type": "markdown",
   "metadata": {},
   "source": [
    "## 拟合效果"
   ]
  },
  {
   "cell_type": "code",
   "execution_count": 9,
   "metadata": {},
   "outputs": [
    {
     "data": {
      "image/png": "[encoded data removed]",
      "text/plain": [
       "<Figure size 640x480 with 1 Axes>"
      ]
     },
     "metadata": {},
     "output_type": "display_data"
    }
   ],
   "source": [
    "predict([0, 20])"
   ]
  }
 ],
 "metadata": {
  "kernelspec": {
   "display_name": ".venv",
   "language": "python",
   "name": "python3"
  },
  "language_info": {
   "codemirror_mode": {
    "name": "ipython",
    "version": 3
   },
   "file_extension": ".py",
   "mimetype": "text/x-python",
   "name": "python",
   "nbconvert_exporter": "python",
   "pygments_lexer": "ipython3",
   "version": "3.12.0"
  }
 },
 "nbformat": 4,
 "nbformat_minor": 2
}
