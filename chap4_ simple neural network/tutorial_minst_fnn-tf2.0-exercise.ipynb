{
 "cells": [
  {
   "cell_type": "markdown",
   "metadata": {},
   "source": [
    "## 准备数据"
   ]
  },
  {
   "cell_type": "code",
   "execution_count": 70,
   "metadata": {},
   "outputs": [],
   "source": [
    "import os\n",
    "import numpy as np\n",
    "import tensorflow as tf\n",
    "from tensorflow import keras\n",
    "from tensorflow.keras import layers, optimizers, datasets\n",
    "\n",
    "os.environ['TF_CPP_MIN_LOG_LEVEL'] = '2'  # or any {'0', '1', '2'}\n",
    "\n",
    "def mnist_dataset():\n",
    "    (x, y), (x_test, y_test) = datasets.mnist.load_data()\n",
    "    #normalize\n",
    "    x = x/255.0\n",
    "    x_test = x_test/255.0\n",
    "    \n",
    "    return (x, y), (x_test, y_test)"
   ]
  },
  {
   "cell_type": "code",
   "execution_count": 71,
   "metadata": {},
   "outputs": [
    {
     "name": "stdout",
     "output_type": "stream",
     "text": [
      "[(1, 'a'), (2, 'b'), (3, 'c'), (4, 'd')]\n"
     ]
    }
   ],
   "source": [
    "print(list(zip([1, 2, 3, 4], ['a', 'b', 'c', 'd'])))"
   ]
  },
  {
   "cell_type": "markdown",
   "metadata": {},
   "source": [
    "## 建立模型"
   ]
  },
  {
   "cell_type": "code",
   "execution_count": 72,
   "metadata": {},
   "outputs": [],
   "source": [
    "class myModel:\n",
    "    def __init__(self):\n",
    "        ####################\n",
    "        '''声明模型对应的参数'''\n",
    "        self.W1 = tf.Variable(tf.random.normal([784, 128]), trainable=True, dtype=tf.float32)\n",
    "        self.b1 = tf.Variable(tf.zeros([128]), trainable=True, dtype=tf.float32)\n",
    "        self.W2 = tf.Variable(tf.random.normal([128, 128]), trainable=True, dtype=tf.float32)\n",
    "        self.b2 = tf.Variable(tf.zeros([128]), trainable=True, dtype=tf.float32)\n",
    "        self.W3 = tf.Variable(tf.random.normal([128, 10]), trainable=True, dtype=tf.float32)\n",
    "        self.b3 = tf.Variable(tf.zeros([10]), trainable=True, dtype=tf.float32)\n",
    "        ####################\n",
    "    def __call__(self, x):\n",
    "        ####################\n",
    "        '''实现模型函数体，返回未归一化的logits'''\n",
    "        x = tf.reshape(x, [-1, 784])\n",
    "        h1 = tf.nn.relu(tf.matmul(x, self.W1) + self.b1)\n",
    "        h2 = tf.nn.relu(tf.matmul(h1, self.W2) + self.b2)\n",
    "        logits = tf.matmul(h2, self.W3) + self.b3\n",
    "        ####################\n",
    "        return logits\n",
    "        \n",
    "model = myModel()\n",
    "\n",
    "optimizer = optimizers.Adam()"
   ]
  },
  {
   "cell_type": "markdown",
   "metadata": {},
   "source": [
    "## 计算 loss"
   ]
  },
  {
   "cell_type": "code",
   "execution_count": 73,
   "metadata": {},
   "outputs": [],
   "source": [
    "@tf.function\n",
    "def compute_loss(logits, labels):\n",
    "    return tf.reduce_mean(\n",
    "        tf.nn.sparse_softmax_cross_entropy_with_logits(\n",
    "            logits=logits, labels=labels))\n",
    "\n",
    "@tf.function\n",
    "def compute_accuracy(logits, labels):\n",
    "    predictions = tf.argmax(logits, axis=1)\n",
    "    return tf.reduce_mean(tf.cast(tf.equal(predictions, labels), tf.float32))\n",
    "\n",
    "@tf.function\n",
    "def train_one_step(model, optimizer, x, y):\n",
    "    with tf.GradientTape() as tape:\n",
    "        logits = model(x)\n",
    "        loss = compute_loss(logits, y)\n",
    "\n",
    "    # compute gradient\n",
    "    trainable_vars = [model.W1, model.W2, model.b1, model.b2]\n",
    "    grads = tape.gradient(loss, trainable_vars)\n",
    "    for g, v in zip(grads, trainable_vars):\n",
    "        v.assign_sub(0.01*g)\n",
    "\n",
    "    accuracy = compute_accuracy(logits, y)\n",
    "\n",
    "    # loss and accuracy is scalar tensor\n",
    "    return loss, accuracy\n",
    "\n",
    "@tf.function\n",
    "def test(model, x, y):\n",
    "    logits = model(x)\n",
    "    loss = compute_loss(logits, y)\n",
    "    accuracy = compute_accuracy(logits, y)\n",
    "    return loss, accuracy"
   ]
  },
  {
   "cell_type": "markdown",
   "metadata": {},
   "source": [
    "## 实际训练"
   ]
  },
  {
   "cell_type": "code",
   "execution_count": 74,
   "metadata": {},
   "outputs": [
    {
     "name": "stdout",
     "output_type": "stream",
     "text": [
      "epoch 0 : loss 814.01294 ; accuracy 0.109066665\n",
      "epoch 1 : loss 512.6097 ; accuracy 0.13846667\n",
      "epoch 2 : loss 376.79105 ; accuracy 0.17865\n",
      "epoch 3 : loss 290.17673 ; accuracy 0.22251667\n",
      "epoch 4 : loss 243.48723 ; accuracy 0.25998333\n",
      "epoch 5 : loss 214.6767 ; accuracy 0.29545\n",
      "epoch 6 : loss 194.4915 ; accuracy 0.32918334\n",
      "epoch 7 : loss 178.74773 ; accuracy 0.36021668\n",
      "epoch 8 : loss 165.99072 ; accuracy 0.3865\n",
      "epoch 9 : loss 155.32288 ; accuracy 0.4099\n",
      "epoch 10 : loss 146.3208 ; accuracy 0.43005\n",
      "epoch 11 : loss 138.60358 ; accuracy 0.44908333\n",
      "epoch 12 : loss 131.87793 ; accuracy 0.46543333\n",
      "epoch 13 : loss 125.95625 ; accuracy 0.48108333\n",
      "epoch 14 : loss 120.71206 ; accuracy 0.49428332\n",
      "epoch 15 : loss 116.0088 ; accuracy 0.50666666\n",
      "epoch 16 : loss 111.7618 ; accuracy 0.5172833\n",
      "epoch 17 : loss 107.90667 ; accuracy 0.5280833\n",
      "epoch 18 : loss 104.38815 ; accuracy 0.53735\n",
      "epoch 19 : loss 101.15442 ; accuracy 0.5456667\n",
      "epoch 20 : loss 98.17581 ; accuracy 0.5542\n",
      "epoch 21 : loss 95.42558 ; accuracy 0.56196666\n",
      "epoch 22 : loss 92.87576 ; accuracy 0.5699833\n",
      "epoch 23 : loss 90.514885 ; accuracy 0.57776666\n",
      "epoch 24 : loss 88.31662 ; accuracy 0.58426666\n",
      "epoch 25 : loss 86.26249 ; accuracy 0.59061664\n",
      "epoch 26 : loss 84.33487 ; accuracy 0.59578335\n",
      "epoch 27 : loss 82.51902 ; accuracy 0.6015667\n",
      "epoch 28 : loss 80.8053 ; accuracy 0.60683334\n",
      "epoch 29 : loss 79.18423 ; accuracy 0.6121\n",
      "epoch 30 : loss 77.653076 ; accuracy 0.6171833\n",
      "epoch 31 : loss 76.21042 ; accuracy 0.6221167\n",
      "epoch 32 : loss 74.8432 ; accuracy 0.62665\n",
      "epoch 33 : loss 73.543526 ; accuracy 0.63058335\n",
      "epoch 34 : loss 72.300644 ; accuracy 0.63446665\n",
      "epoch 35 : loss 71.11325 ; accuracy 0.63816667\n",
      "epoch 36 : loss 69.981224 ; accuracy 0.6421667\n",
      "epoch 37 : loss 68.90213 ; accuracy 0.6462833\n",
      "epoch 38 : loss 67.87163 ; accuracy 0.64993334\n",
      "epoch 39 : loss 66.88742 ; accuracy 0.65321666\n",
      "epoch 40 : loss 65.94263 ; accuracy 0.65653336\n",
      "epoch 41 : loss 65.03623 ; accuracy 0.6597833\n",
      "epoch 42 : loss 64.16441 ; accuracy 0.66293335\n",
      "epoch 43 : loss 63.32546 ; accuracy 0.66601664\n",
      "epoch 44 : loss 62.516525 ; accuracy 0.669\n",
      "epoch 45 : loss 61.73686 ; accuracy 0.67211664\n",
      "epoch 46 : loss 60.985626 ; accuracy 0.67476666\n",
      "epoch 47 : loss 60.260235 ; accuracy 0.67733335\n",
      "epoch 48 : loss 59.559174 ; accuracy 0.6800167\n",
      "epoch 49 : loss 58.881023 ; accuracy 0.6825167\n",
      "test loss 55.70891 ; accuracy 0.6921\n"
     ]
    }
   ],
   "source": [
    "train_data, test_data = mnist_dataset()\n",
    "for epoch in range(50):\n",
    "    loss, accuracy = train_one_step(model, optimizer, \n",
    "                                    tf.constant(train_data[0], dtype=tf.float32), \n",
    "                                    tf.constant(train_data[1], dtype=tf.int64))\n",
    "    print('epoch', epoch, ': loss', loss.numpy(), '; accuracy', accuracy.numpy())\n",
    "loss, accuracy = test(model, \n",
    "                      tf.constant(test_data[0], dtype=tf.float32), \n",
    "                      tf.constant(test_data[1], dtype=tf.int64))\n",
    "\n",
    "print('test loss', loss.numpy(), '; accuracy', accuracy.numpy())"
   ]
  }
 ],
 "metadata": {
  "kernelspec": {
   "display_name": ".venv",
   "language": "python",
   "name": "python3"
  },
  "language_info": {
   "codemirror_mode": {
    "name": "ipython",
    "version": 3
   },
   "file_extension": ".py",
   "mimetype": "text/x-python",
   "name": "python",
   "nbconvert_exporter": "python",
   "pygments_lexer": "ipython3",
   "version": "3.12.0"
  }
 },
 "nbformat": 4,
 "nbformat_minor": 2
}
